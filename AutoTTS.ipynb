{
  "nbformat": 4,
  "nbformat_minor": 0,
  "metadata": {
    "colab": {
      "provenance": [],
      "gpuType": "T4",
      "mount_file_id": "1ijF2_4OOlp8Ob27wiYMrLWA--Ne_oAVY",
      "authorship_tag": "ABX9TyOt4hZ1mRKNJ4bwmXsAkhZ9",
      "include_colab_link": true
    },
    "kernelspec": {
      "name": "python3",
      "display_name": "Python 3"
    },
    "language_info": {
      "name": "python"
    },
    "accelerator": "GPU"
  },
  "cells": [
    {
      "cell_type": "markdown",
      "metadata": {
        "id": "view-in-github",
        "colab_type": "text"
      },
      "source": [
        "<a href=\"https://colab.research.google.com/github/Boga28/Google-Colab/blob/main/AutoTTS.ipynb\" target=\"_parent\"><img src=\"https://colab.research.google.com/assets/colab-badge.svg\" alt=\"Open In Colab\"/></a>"
      ]
    },
    {
      "cell_type": "code",
      "source": [
        "#@markdown #Keep this tab alive to prevent Colab from disconnecting you { display-mode: \"form\" }\n",
        "\n",
        "#@markdown Press play on the music player that will appear below:\n",
        "%%html\n",
        "<audio src=\"https://oobabooga.github.io/silence.m4a\" controls>"
      ],
      "metadata": {
        "colab": {
          "base_uri": "https://localhost:8080/",
          "height": 75
        },
        "id": "G1O9iMYhGrwU",
        "outputId": "a9ad4c9e-18b6-41f9-8cf8-1c104bb39846"
      },
      "execution_count": 1,
      "outputs": [
        {
          "output_type": "display_data",
          "data": {
            "text/plain": [
              "<IPython.core.display.HTML object>"
            ],
            "text/html": [
              "<audio src=\"https://oobabooga.github.io/silence.m4a\" controls>\n"
            ]
          },
          "metadata": {}
        }
      ]
    },
    {
      "cell_type": "code",
      "source": [
        "mounte_drive = True #@param {type:\"boolean\"}\n",
        "\n",
        "if mounte_drive:\n",
        "  from google.colab import drive\n",
        "  drive.mount('/content/drive')"
      ],
      "metadata": {
        "id": "FujNQSWz0vwy"
      },
      "execution_count": null,
      "outputs": []
    },
    {
      "cell_type": "code",
      "execution_count": null,
      "metadata": {
        "id": "p5FYoMd0tYDl"
      },
      "outputs": [],
      "source": [
        "#@markdown Install Library\n",
        "\n",
        "%%bash\n",
        "set -e\n",
        "\n",
        "cd \"$(dirname \"${BASH_SOURCE[0]}\")\"\n",
        "\n",
        "if [[ \"$(pwd)\" =~ \" \" ]]; then\n",
        "    echo \"This script relies on Miniconda which cannot be silently installed under a path with spaces.\"\n",
        "    exit 1\n",
        "fi\n",
        "\n",
        "# Deactivate existing conda environments to avoid conflicts.\n",
        "{ conda deactivate && conda deactivate && conda deactivate; } 2> /dev/null\n",
        "\n",
        "OS_ARCH=$(uname -m)\n",
        "case \"${OS_ARCH}\" in\n",
        "    x86_64*)    OS_ARCH=\"x86_64\" ;;\n",
        "    arm64* | aarch64*) OS_ARCH=\"aarch64\" ;;\n",
        "    *)          echo \"Unknown system architecture: $OS_ARCH! This script runs only on x86_64 or arm64\" && exit 1 ;;\n",
        "esac\n",
        "\n",
        "# Enable universe repository and install Linux requirements.\n",
        "sudo add-apt-repository universe\n",
        "sudo apt update\n",
        "sudo apt install -y libaio-dev espeak-ng ffmpeg gcc g++\n",
        "\n",
        "# Configuration paths.\n",
        "INSTALL_DIR=\"$(pwd)/xttsv2\"\n",
        "CONDA_ROOT_PREFIX=\"${INSTALL_DIR}/conda\"\n",
        "INSTALL_ENV_DIR=\"${INSTALL_DIR}/env\"\n",
        "MINICONDA_DOWNLOAD_URL=\"https://repo.anaconda.com/miniconda/Miniconda3-py311_24.4.0-0-Linux-${OS_ARCH}.sh\"\n",
        "\n",
        "if [ ! -x \"${CONDA_ROOT_PREFIX}/bin/conda\" ]; then\n",
        "    echo \"Downloading Miniconda from ${MINICONDA_DOWNLOAD_URL} to ${INSTALL_DIR}/miniconda_installer.sh\"\n",
        "    mkdir -p \"${INSTALL_DIR}\"\n",
        "    curl -L \"${MINICONDA_DOWNLOAD_URL}\" -o \"${INSTALL_DIR}/miniconda_installer.sh\"\n",
        "    chmod +x \"${INSTALL_DIR}/miniconda_installer.sh\"\n",
        "    bash \"${INSTALL_DIR}/miniconda_installer.sh\" -b -p \"${CONDA_ROOT_PREFIX}\"\n",
        "    echo \"Miniconda installed.\"\n",
        "fi\n",
        "\n",
        "if [ ! -d \"${INSTALL_ENV_DIR}\" ]; then\n",
        "    \"${CONDA_ROOT_PREFIX}/bin/conda\" create -y --prefix \"${INSTALL_ENV_DIR}\" -c conda-forge python=3.11.9\n",
        "    echo \"Conda environment created at ${INSTALL_ENV_DIR}.\"\n",
        "fi\n",
        "\n",
        "# Activate the conda environment and install Python requirements.\n",
        "source \"${CONDA_ROOT_PREFIX}/etc/profile.d/conda.sh\"\n",
        "conda activate \"${INSTALL_ENV_DIR}\"\n",
        "\n",
        "pip install torch==2.3.0+cu121 torchvision==0.18.0+cu121 torchaudio==2.3.0+cu121 --extra-index-url https://download.pytorch.org/whl/cu121\n",
        "conda install -y nvidia/label/cuda-12.1.0::cuda-toolkit=12.1\n",
        "conda install -y pytorch::faiss-cpu\n",
        "conda install -y -c conda-forge \"ffmpeg=*=*gpl*\"\n",
        "conda install -y -c conda-forge \"ffmpeg=*=h*_*\" --no-deps\n",
        "echo \"Fixing Nvidia's broken symlinks in the env/lib folder...\"\n",
        "env_path=\"${INSTALL_ENV_DIR}/lib\"\n",
        "echo \"Installing additional requirements...\"\n",
        "pip install coqui-tts[all]\n",
        "echo \"Installing DeepSpeed...\"\n",
        "wget https://github.com/erew123/alltalk_tts/releases/download/DeepSpeed-14.2-Linux/deepspeed-0.14.2+cu121torch2.3-cp311-cp311-manylinux_2_24_x86_64.whl\n",
        "pip install deepspeed-0.14.2+cu121torch2.3-cp311-cp311-manylinux_2_24_x86_64.whl\n",
        "conda clean --all --force-pkgs-dirs -y\n",
        "\n",
        "cd \"$(dirname \"${BASH_SOURCE[0]}\")\"\n",
        "if [[ \"$(pwd)\" =~ \" \" ]]; then\n",
        "    echo \"This script relies on Miniconda which cannot be silently installed under a path with spaces.\"\n",
        "    exit 1\n",
        "fi\n",
        "\n",
        "{ conda deactivate && conda deactivate && conda deactivate; } 2> /dev/null\n",
        "\n",
        "CONDA_ROOT_PREFIX=\"$(pwd)/xttsv2/conda\"\n",
        "INSTALL_ENV_DIR=\"$(pwd)/xttsv2/env\"\n",
        "export PYTHONNOUSERSITE=1\n",
        "unset PYTHONPATH\n",
        "unset PYTHONHOME\n",
        "export CUDA_PATH=\"$INSTALL_ENV_DIR\"\n",
        "export CUDA_HOME=\"$CUDA_PATH\"\n",
        "\n",
        "bash --init-file <(echo \"source \\\"$CONDA_ROOT_PREFIX/etc/profile.d/conda.sh\\\" && conda activate \\\"$INSTALL_ENV_DIR\\\"\")\n"
      ]
    },
    {
      "cell_type": "code",
      "source": [
        "\n",
        "\n",
        "# Create a directory for the XTTS-v2 model files and move into it.\n",
        "!mkdir -p xtts2_model\n",
        "!wget https://coqui.gateway.scarf.sh/hf-coqui/XTTS-v2/main/model.pth -O /content/xtts2_model/model.pth\n",
        "!wget https://coqui.gateway.scarf.sh/hf-coqui/XTTS-v2/main/config.json -O /content/xtts2_model/config.json\n",
        "!wget https://coqui.gateway.scarf.sh/hf-coqui/XTTS-v2/main/vocab.json -O /content/xtts2_model/vocab.json\n",
        "!wget https://coqui.gateway.scarf.sh/hf-coqui/XTTS-v2/main/hash.md5 -O /content/xtts2_model/hash.md5\n",
        "!wget https://coqui.gateway.scarf.sh/hf-coqui/XTTS-v2/main/speakers_xtts.pth -O /content/xtts2_model/speakers_xtts.pth\n",
        "\n",
        "# CLONE\n",
        "!wget https://raw.githubusercontent.com/Boga28/Google-Colab/refs/heads/main/Christopher_lee_clean.wav -O /content/Christopher_lee_clean.wav\n",
        "!wget https://github.com/Boga28/Google-Colab/raw/refs/heads/main/eTTs.py -O /content/eTTs(Colab).py\n",
        "!wget https://github.com/Boga28/Google-Colab/raw/refs/heads/main/input.txt -O /content/input.txt\n",
        "\n"
      ],
      "metadata": {
        "collapsed": true,
        "id": "0rNf-S6-AhLs"
      },
      "execution_count": null,
      "outputs": []
    },
    {
      "cell_type": "code",
      "source": [
        "from google.colab import files\n",
        "import os\n",
        "import subprocess\n",
        "from IPython.display import Javascript\n",
        "\n",
        "# Define paths\n",
        "env_path = \"/content/xttsv2/env\"\n",
        "python_script = \"/content/eTTs.py\"\n",
        "\n",
        "# ✅ Set a valid Matplotlib backend\n",
        "os.environ[\"MPLBACKEND\"] = \"agg\"\n",
        "\n",
        "# ✅ Run the script inside the Conda environment\n",
        "process = subprocess.run(\n",
        "    f\"bash -c 'source /content/xttsv2/conda/etc/profile.d/conda.sh && conda activate {env_path} && python {python_script} && conda deactivate'\",\n",
        "    shell=True,\n",
        "    capture_output=True,\n",
        "    text=True\n",
        ")\n",
        "\n",
        "# ✅ Print execution output (for debugging)\n",
        "print(\"STDOUT:\\n\", process.stdout)\n",
        "print(\"STDERR:\\n\", process.stderr)\n",
        "\n",
        "# ✅ Automatically execute the next cell (for file download)\n",
        "output_file = \"/content/xtts.m4a\"\n",
        "if os.path.exists(output_file):\n",
        "    files.download(output_file)\n",
        "    print(\"✅ Download initiated.\")\n",
        "else:\n",
        "    print(\"❌ Error: File not found! Check the logs.\")\n"
      ],
      "metadata": {
        "id": "_bzXzlHD7j0u"
      },
      "execution_count": null,
      "outputs": []
    },
    {
      "cell_type": "code",
      "source": [
        "%%bash\n",
        "set -e\n",
        "# (Optional) Deactivate any active environments.\n",
        "{ conda deactivate && conda deactivate && conda deactivate; } 2> /dev/null\n",
        "\n",
        "# Define paths.\n",
        "CONDA_ROOT_PREFIX=\"/content/xttsv2/conda/\"\n",
        "INSTALL_ENV_DIR=\"/content/xttsv2/env/\"\n",
        "\n",
        "# Export necessary variables.\n",
        "export PYTHONNOUSERSITE=1\n",
        "unset PYTHONPATH\n",
        "unset PYTHONHOME\n",
        "export CUDA_PATH=\"$INSTALL_ENV_DIR\"\n",
        "export CUDA_HOME=\"$CUDA_PATH\"\n",
        "export PATH=$CUDA_HOME/bin:$PATH\n",
        "\n",
        "# Set a valid matplotlib backend.\n",
        "export MPLBACKEND=agg\n",
        "\n",
        "# Source the conda setup script and activate the environment.\n",
        "source \"$CONDA_ROOT_PREFIX/etc/profile.d/conda.sh\"\n",
        "conda activate \"$INSTALL_ENV_DIR\"\n",
        "#pip install coqui-tts[all]\n",
        "#pip install /content/deepspeed-0.14.2+cu121torch2.3-cp311-cp311-manylinux_2_24_x86_64.whl\n",
        "\n",
        "# Run your Python script.\n",
        "python /content/eTTS.py"
      ],
      "metadata": {
        "id": "76Urvci9C5Ux"
      },
      "execution_count": null,
      "outputs": []
    }
  ]
}